{
  "nbformat": 4,
  "nbformat_minor": 0,
  "metadata": {
    "colab": {
      "provenance": []
    },
    "kernelspec": {
      "name": "python3",
      "display_name": "Python 3"
    },
    "language_info": {
      "name": "python"
    }
  },
  "cells": [
    {
      "cell_type": "code",
      "execution_count": null,
      "metadata": {
        "id": "uMGVjU25TLzx"
      },
      "outputs": [],
      "source": []
    },
    {
      "cell_type": "markdown",
      "source": [
        "# Tutorial I: Introduction to PyTorch (torch)\n",
        "<p>\n",
        "Bern Winter School on Machine Learning, 2024<br>\n",
        "Prepared by Mykhailo Vladymyrov and Matthew Vowels.\n",
        "</p>\n",
        "\n",
        "This work is licensed under a <a href=\"http://creativecommons.org/licenses/by-nc-sa/4.0/\">Creative Commons Attribution-NonCommercial-ShareAlike 4.0 International License</a>.\n",
        "\n",
        "In this tutorial session we will get familiar wtih:\n",
        "* How to do optimization in torch and what possibilities does that open to data science\n",
        "* how to apply that to virtually any practical problem\n",
        "   * unordered/tabular data\n",
        "   * data with continuous dimensions\n",
        "   * sequential data\n",
        "\n",
        "\n",
        "\n",
        "torch provides a high-level interface, allowing easy implementation.\n",
        "\n",
        "While it is easy to use, some fundamental conceps can remain a bit obscured, but we will try to clarify that in the course."
      ],
      "metadata": {
        "id": "gg8g6scvTgnS"
      }
    },
    {
      "cell_type": "markdown",
      "source": [
        "## 00. Requirements\n",
        "\n",
        "To run this notebooks you need torch and numpy installed.\n",
        "As some parts of this tutorial rely on specific functions, it's strongly advised to use the Chrome browser or Chromium derivatives.\n",
        "\n",
        "Basic knowledge of Python can be acquired [here](https://docs.python.org/3/tutorial/) and of Numpy [here](https://docs.scipy.org/doc/numpy/user/quickstart.html)\n",
        "\n",
        "Full documentation on torch functions is available in the [reference](https://pytorch.org/docs/stable/index.html).\n"
      ],
      "metadata": {
        "id": "fALIgdeITg55"
      }
    },
    {
      "cell_type": "markdown",
      "source": [
        "## 0. Cell execution\n",
        "\n",
        "> Indented block\n",
        "Press ``Ctrl+Enter`` or ``Shift+Enter`` on the next cell to execute the content\n"
      ],
      "metadata": {
        "id": "87oX-c-FTg_J"
      }
    },
    {
      "cell_type": "code",
      "source": [
        "print('It works!')"
      ],
      "metadata": {
        "id": "xlblJm2DUL7Q"
      },
      "execution_count": null,
      "outputs": []
    },
    {
      "cell_type": "markdown",
      "source": [
        "Navigate between cells with arrows. Press `Enter` to edit cell, `Esc` to exit."
      ],
      "metadata": {
        "id": "ASNnoSiUURJB"
      }
    },
    {
      "cell_type": "markdown",
      "source": [
        "## 1. Load necessary libraries"
      ],
      "metadata": {
        "id": "XMZ1Z7s-UaxJ"
      }
    },
    {
      "cell_type": "code",
      "source": [
        "import os\n",
        "import sys\n",
        "import tarfile\n",
        "import requests\n",
        "\n",
        "import numpy as np\n",
        "import matplotlib.pyplot as plt\n",
        "\n",
        "import torch\n",
        "import torch.nn as nn\n",
        "import torch.nn.functional as F\n",
        "import torch.optim as optim\n"
      ],
      "metadata": {
        "id": "rE6mOT8aUR6o"
      },
      "execution_count": 1,
      "outputs": []
    },
    {
      "cell_type": "markdown",
      "source": [
        "### Download libraries"
      ],
      "metadata": {
        "id": "JmER6N64ZUZP"
      }
    },
    {
      "cell_type": "code",
      "source": [
        "\n",
        "\n",
        "# URL of the file to download\n",
        "url = 'https://github.com/neworldemancer/BMLWS/raw/main/tut_files/tpub0320.tgz'\n",
        "\n",
        "# Path where the file will be saved\n",
        "path = os.path.abspath('.') + '/material.tgz'\n",
        "\n",
        "# Download the file\n",
        "response = requests.get(url)\n",
        "assert response.status_code == 200, \"Download failed\"\n",
        "with open(path, 'wb') as file:\n",
        "    file.write(response.content)\n",
        "\n",
        "# Check if the path is correct\n",
        "assert os.path.exists(path), \"File not found\"\n",
        "\n",
        "# Extract the tar file\n",
        "tar = tarfile.open(path, \"r:gz\")\n",
        "tar.extractall()\n",
        "tar.close()"
      ],
      "metadata": {
        "id": "Sl58R8WeUf0a"
      },
      "execution_count": 2,
      "outputs": []
    },
    {
      "cell_type": "markdown",
      "source": [
        "## 2. Create our first model\n",
        "\n",
        "First we need to define the input for the model. We will create `Input`, where during the excecution we will feed in the input values."
      ],
      "metadata": {
        "id": "5p2LCP4zaAgP"
      }
    },
    {
      "cell_type": "code",
      "source": [
        "class SimpleModel(nn.Module):\n",
        "    def __init__(self):\n",
        "        super(SimpleModel, self).__init__()\n",
        "\n",
        "    def forward(self, x):\n",
        "        out1 = x + 2\n",
        "        return x * out1\n",
        "\n",
        "# Create an instance of the model\n",
        "model = SimpleModel()\n",
        "\n",
        "# Example of using the model with dummy input\n",
        "input_tensor = torch.tensor(1.0)  # Example input\n",
        "output = model(input_tensor)\n"
      ],
      "metadata": {
        "id": "RjEsEDZbZV5P"
      },
      "execution_count": 10,
      "outputs": []
    },
    {
      "cell_type": "code",
      "source": [
        "output"
      ],
      "metadata": {
        "id": "rgLCYhrCosL8",
        "colab": {
          "base_uri": "https://localhost:8080/"
        },
        "outputId": "bfbbcb38-f4d5-46f2-c1f7-0006bb3b41f0"
      },
      "execution_count": 11,
      "outputs": [
        {
          "output_type": "execute_result",
          "data": {
            "text/plain": [
              "tensor(3.)"
            ]
          },
          "metadata": {},
          "execution_count": 11
        }
      ]
    },
    {
      "cell_type": "markdown",
      "source": [
        "## 3. Run the model\n"
      ],
      "metadata": {
        "id": "CnRft8Fga541"
      }
    },
    {
      "cell_type": "code",
      "source": [
        "out_res = model(torch.tensor(5.0))\n",
        "print(out_res)\n",
        "\n",
        "## x(x+2) = x^2 + 2x"
      ],
      "metadata": {
        "id": "Xt-3tKzca-3t",
        "colab": {
          "base_uri": "https://localhost:8080/"
        },
        "outputId": "4af64cd5-d45c-4a31-99e3-c561199ca900"
      },
      "execution_count": 12,
      "outputs": [
        {
          "output_type": "stream",
          "name": "stdout",
          "text": [
            "tensor(35.)\n"
          ]
        }
      ]
    },
    {
      "cell_type": "code",
      "source": [
        "type(out_res)"
      ],
      "metadata": {
        "id": "RPJf5StypN8D",
        "colab": {
          "base_uri": "https://localhost:8080/"
        },
        "outputId": "9fc34a76-fec0-414c-f8b9-2f959b65b7a5"
      },
      "execution_count": 5,
      "outputs": [
        {
          "output_type": "execute_result",
          "data": {
            "text/plain": [
              "torch.Tensor"
            ]
          },
          "metadata": {},
          "execution_count": 5
        }
      ]
    },
    {
      "cell_type": "markdown",
      "source": [
        "Several values can be computed at the same time:"
      ],
      "metadata": {
        "id": "hsenbNgdbDnl"
      }
    },
    {
      "cell_type": "code",
      "source": [
        "out_val = model(torch.tensor([1, 2, 1]))\n",
        "print(out_val)"
      ],
      "metadata": {
        "id": "Ta6YZSpcaa91",
        "colab": {
          "base_uri": "https://localhost:8080/"
        },
        "outputId": "f38144d7-e7bd-4a01-ed6a-256c9559042c"
      },
      "execution_count": 6,
      "outputs": [
        {
          "output_type": "stream",
          "name": "stdout",
          "text": [
            "tensor([3, 8, 3])\n"
          ]
        }
      ]
    },
    {
      "cell_type": "markdown",
      "source": [
        "## 4. Tensor operations\n",
        "\n",
        "For ML tasks we often need to perform operations on high-dimensional data. Theese are represented as tensors in torch. For example we can calculate sum of squared values in an 1D array with 5 elements:"
      ],
      "metadata": {
        "id": "dmSH2VjZbeP0"
      }
    },
    {
      "cell_type": "code",
      "source": [
        "class SimpleModel2(nn.Module):\n",
        "    def __init__(self):\n",
        "        super(SimpleModel2, self).__init__()\n",
        "\n",
        "    def forward(self, x):\n",
        "        out1 = x + 2\n",
        "        return torch.sum(out1)\n",
        "\n",
        "\n",
        "model2 = SimpleModel2()\n",
        "out_val = model2(torch.tensor([1, 2, 1]))\n",
        "print(out_val)"
      ],
      "metadata": {
        "id": "9tjrpbLwaoA1",
        "colab": {
          "base_uri": "https://localhost:8080/"
        },
        "outputId": "a58ecc94-0ae5-4bad-f4cc-a87055ed809a"
      },
      "execution_count": 7,
      "outputs": [
        {
          "output_type": "stream",
          "name": "stdout",
          "text": [
            "tensor(10)\n"
          ]
        }
      ]
    },
    {
      "cell_type": "markdown",
      "source": [
        "*Function calculates the sum of the array with all elements + 2 -> (1+2)+(2+2)+(1+2) = 10*"
      ],
      "metadata": {
        "id": "lPqkCSwoSrbt"
      }
    },
    {
      "cell_type": "markdown",
      "source": [
        "Or we can do the same for several 1D arrays at once:"
      ],
      "metadata": {
        "id": "sfMe-WehcGVT"
      }
    },
    {
      "cell_type": "code",
      "source": [
        "class SimpleModel3(nn.Module):\n",
        "    def __init__(self):\n",
        "        super(SimpleModel3, self).__init__()\n",
        "\n",
        "    def forward(self, x):\n",
        "        out1 = x + 2\n",
        "        return torch.sum(out1, axis=1)\n",
        "\n",
        "\n",
        "model3 = SimpleModel3()\n",
        "array = torch.tensor([[1,2,1],[1,2,1],[2,1,2],[2,1,2]])\n",
        "print('input shape:', array.shape)\n",
        "\n",
        "out_vals = model3(array)\n",
        "print('output shape:', out_vals.shape)\n",
        "print('output:', out_vals)"
      ],
      "metadata": {
        "id": "JGb9Zinwb1jb",
        "colab": {
          "base_uri": "https://localhost:8080/"
        },
        "outputId": "62a31413-3c61-4af5-fad3-768f0c6f759b"
      },
      "execution_count": 8,
      "outputs": [
        {
          "output_type": "stream",
          "name": "stdout",
          "text": [
            "input shape: torch.Size([4, 3])\n",
            "output shape: torch.Size([4])\n",
            "output: tensor([10, 10, 11, 11])\n"
          ]
        }
      ]
    },
    {
      "cell_type": "markdown",
      "source": [
        "## 5. Exercise 1"
      ],
      "metadata": {
        "id": "IaFgi162c9_C"
      }
    },
    {
      "cell_type": "code",
      "source": [
        "class SimpleModel4(nn.Module):\n",
        "    def __init__(self):\n",
        "        super(SimpleModel4, self).__init__()\n",
        "\n",
        "    def forward(self, x):\n",
        "        return torch.mean(x, axis=1)\n",
        "\n",
        "\n",
        "#array = torch.tensor([[1,2,3.1],[1,2,1],[2,1,2],[2,1,2]])\n",
        "\n",
        "array = torch.tensor([[1,2,3,4,5], [2,3,4,5.1,6], [25,65,12,12,11]]) #does torch.mean need a .x value in their arrays to be able to register it as valid?\n",
        "model4 = SimpleModel4()\n",
        "\n",
        "#print('input shape:', array.shape)\n",
        "\n",
        "out_vals = model4(array)\n",
        "\n",
        "print(out_vals)"
      ],
      "metadata": {
        "id": "6lXaa1iocdgj",
        "colab": {
          "base_uri": "https://localhost:8080/"
        },
        "outputId": "e99b8719-9d4b-4be4-89ef-eb431aa2b441"
      },
      "execution_count": 30,
      "outputs": [
        {
          "output_type": "stream",
          "name": "stdout",
          "text": [
            "tensor([ 3.0000,  4.0200, 25.0000])\n"
          ]
        }
      ]
    },
    {
      "cell_type": "markdown",
      "source": [
        "Modify the code bellow to calculate mean of array's elements."
      ],
      "metadata": {
        "id": "OrAi5OOCdGn6"
      }
    },
    {
      "cell_type": "code",
      "source": [
        "class MeanModel(nn.Module):\n",
        "    def __init__(self):\n",
        "        super(MeanModel, self).__init__()\n",
        "\n",
        "    def forward(self, x):\n",
        "        return  ???\n",
        "\n",
        "# define data:\n",
        "arr = torch.tensor([[1,2,3,4,5], [2,3,4,5.1,6], [25,65,12,12,11]])\n",
        "\n",
        "model = ???  # define model\n",
        "result = ???  # run model\n",
        "\n",
        "print(result)"
      ],
      "metadata": {
        "id": "pQSZfDxZdEOC"
      },
      "execution_count": null,
      "outputs": []
    },
    {
      "cell_type": "markdown",
      "source": [
        "## 6. Optimization problem\n",
        "\n",
        "In ML we always try to optimize model parameters to minimize a loss function. pytorch provides easy interface for solving optimization problems.\n",
        "\n",
        "Let's see how this works. We will use a function $f$, parabolic with respect to the model parameter $t$: $f(x_0, x_1|t) = (x_0*t-x_1)^2$. Here $x_0$ and $x_1$ are given values for which we will try to minimize value of function $f$ by modifying $t$.\n",
        "\n",
        "\n"
      ],
      "metadata": {
        "id": "eM1uPaXbds4i"
      }
    },
    {
      "cell_type": "code",
      "source": [
        "class FLayer(nn.Module):\n",
        "    def __init__(self):\n",
        "        super(FLayer, self).__init__()\n",
        "        self.t = nn.Parameter(torch.tensor(0.0))  # Initializing as a learnable parameter, 0.0 inital value t\n",
        "\n",
        "    def forward(self, x):\n",
        "        x0 = x[..., 0]   # the ellipsis here selects all previous dimensions as they are, and the last as dim 0\n",
        "        x1 = x[..., 1]   # the ellipsis here selects all previous dimensions as they are, and the last as dim 1\n",
        "        return (x0 * self.t - x1) ** 2\n",
        "\n",
        "        # df/dt = 2 * (x0 * self.t - x1) * x0"
      ],
      "metadata": {
        "id": "TQWFqxPidcT5"
      },
      "execution_count": 58,
      "outputs": []
    },
    {
      "cell_type": "markdown",
      "source": [
        "For simplicity we will keep $x_0$ and $x_1$ in an array: `x` = [$x_0$, $x_1$]"
      ],
      "metadata": {
        "id": "N802UDEleIoh"
      }
    },
    {
      "cell_type": "code",
      "source": [
        "model = FLayer()\n"
      ],
      "metadata": {
        "id": "-XEnxV0keJIo"
      },
      "execution_count": 59,
      "outputs": []
    },
    {
      "cell_type": "markdown",
      "source": [
        "Next we create an optimizer: object that on each iteration adjusts values of all trainable parameters (in our case just `t` to minimize the value of `f`.\n",
        "Here we will use plain steepest gradient descent.\n",
        "\n",
        "We will minimize the value of the models output."
      ],
      "metadata": {
        "id": "UP0wnuYsfmYn"
      }
    },
    {
      "cell_type": "code",
      "source": [
        "for p in model.parameters():\n",
        "  print(p)"
      ],
      "metadata": {
        "id": "oDEtEb4M0GMA",
        "colab": {
          "base_uri": "https://localhost:8080/"
        },
        "outputId": "7c28e1da-dd61-4491-8a02-1d15e36947c7"
      },
      "execution_count": 60,
      "outputs": [
        {
          "output_type": "stream",
          "name": "stdout",
          "text": [
            "Parameter containing:\n",
            "tensor(0., requires_grad=True)\n"
          ]
        }
      ]
    },
    {
      "cell_type": "code",
      "source": [
        "model = FLayer()\n",
        "\n",
        "# Optimizer (e.g., SGD or Adam)\n",
        "optimizer = optim.SGD(model.parameters(), lr=0.01) ## gradient descent optimizer (probably the one commonly used by pytorch)\n",
        "\n",
        "# Values of x0 and x1 for which we will minimize f\n",
        "x0_val = 3.\n",
        "x1_val = 9.\n",
        "\n",
        "x0_t = torch.tensor([x0_val])\n",
        "x1_t = torch.tensor([x1_val])\n",
        "x_val = torch.stack([x0_t, x1_t], dim=-1) # dim = -1 means that the new dimension is put at the last position in the new tensor\n",
        "\n",
        "#print(x_val.shape)\n",
        "\n",
        "# Buffers to store intermediate values of t and f to plot them later\n",
        "t_sv = []\n",
        "f_sv = []\n",
        "\n",
        "\n",
        "# Initial evaluation\n",
        "with torch.no_grad():\n",
        "    f_val = model(x_val) # f value starting from t 0.0\n",
        "    t_val = model.t # 0.0 starting point set in the function as 0.0\n",
        "\n",
        "t_sv.append(t_val.item())\n",
        "f_sv.append(f_val.item())\n",
        "\n",
        "# Optimization loop\n",
        "for itr in range(30):\n",
        "    optimizer.zero_grad()  # Zero the gradients\n",
        "    f_val = model(x_val)  # Forward pass\n",
        "    loss = f_val  # Your loss function seems to just return the model output\n",
        "    loss.backward()  # Compute gradients\n",
        "    optimizer.step()  # Update parameters\n",
        "\n",
        "    # Logging current values of t and f\n",
        "    with torch.no_grad():\n",
        "        f_val = model(x_val)\n",
        "        t_val = model.t\n",
        "\n",
        "    t_sv.append(t_val.item())\n",
        "    f_sv.append(f_val.item())\n",
        "\n",
        "\n",
        "t_sv"
      ],
      "metadata": {
        "id": "07BKIbDYfl6A",
        "colab": {
          "base_uri": "https://localhost:8080/"
        },
        "outputId": "c2c4080d-8539-4c47-8988-f940162932c8"
      },
      "execution_count": 61,
      "outputs": [
        {
          "output_type": "execute_result",
          "data": {
            "text/plain": [
              "[0.0,\n",
              " 0.5399999618530273,\n",
              " 0.9827999472618103,\n",
              " 1.3458960056304932,\n",
              " 1.6436346769332886,\n",
              " 1.8877804279327393,\n",
              " 2.087980031967163,\n",
              " 2.252143621444702,\n",
              " 2.3867578506469727,\n",
              " 2.4971413612365723,\n",
              " 2.587656021118164,\n",
              " 2.6618778705596924,\n",
              " 2.7227399349212646,\n",
              " 2.77264666557312,\n",
              " 2.813570261001587,\n",
              " 2.847127676010132,\n",
              " 2.8746447563171387,\n",
              " 2.8972086906433105,\n",
              " 2.9157111644744873,\n",
              " 2.9308831691741943,\n",
              " 2.943324327468872,\n",
              " 2.953526020050049,\n",
              " 2.9618914127349854,\n",
              " 2.9687509536743164,\n",
              " 2.9743757247924805,\n",
              " 2.9789881706237793,\n",
              " 2.9827704429626465,\n",
              " 2.9858717918395996,\n",
              " 2.988415002822876,\n",
              " 2.9905002117156982,\n",
              " 2.9922101497650146]"
            ]
          },
          "metadata": {},
          "execution_count": 61
        }
      ]
    },
    {
      "cell_type": "code",
      "source": [
        "#just find the nice range for plotting\n",
        "x0 = x1_val/x0_val\n",
        "xhalf = max(abs(t_sv[0]-x0), 5.)\n",
        "#fill array for parabola\n",
        "t_all = np.arange(x0-xhalf, x0+xhalf, xhalf/50.)\n",
        "f_all = np.asarray([(ti*x0_val-x1_val)*(ti*x0_val-x1_val) for ti in t_all])\n",
        "\n",
        "#draw all\n",
        "_, axs = plt.subplots(1, 3, figsize=(16,10))\n",
        "axs[0].plot(t_all, f_all, 'b', alpha=0.3)\n",
        "axs[0].plot(t_sv, f_sv, 'g^')  # -> 'g^--'\n",
        "axs[0].set_title('f(t | x1,x2)')\n",
        "axs[0].set_xlabel('t')\n",
        "axs[0].set_ylabel('f(t)')\n",
        "axs[0].legend(('f(t)', 'training iterations'),  loc='upper center')\n",
        "axs[1].plot(f_sv, '.-')\n",
        "axs[1].set_title('f(itr)');\n",
        "axs[1].set_ylabel('f(t)')\n",
        "axs[1].set_xlabel('training iteration')\n",
        "axs[2].plot(t_sv, '.-')\n",
        "axs[2].set_title('t(itr)');\n",
        "axs[2].set_ylabel('t(itr)')\n",
        "axs[2].set_xlabel('training iteration')\n",
        "plt.show()"
      ],
      "metadata": {
        "id": "YaOVgz-4f8iX",
        "colab": {
          "base_uri": "https://localhost:8080/",
          "height": 872
        },
        "outputId": "b8497346-8234-4994-870c-0d4aec9ef8b7"
      },
      "execution_count": 51,
      "outputs": [
        {
          "output_type": "display_data",
          "data": {
            "text/plain": [
              "<Figure size 1600x1000 with 3 Axes>"
            ],
            "image/png": "[encoded data removed]"
          },
          "metadata": {}
        }
      ]
    },
    {
      "cell_type": "markdown",
      "source": [
        "Of course, in the example above, we can compute the solution analytically for $(x0∗t−x1)^2$. Rewriting it for convenience as $y=(ax+b)^2 = a^2x^2 + 2abx +b^2$, we can derive the gradient $\\frac{dy}{dx} = 2a^2x + 2ab$. This can be evaluated for $\\frac{dy}{dx} =0$ with the values of $a=3$ and $b=-9$: $18x = 54$ so $x=3$. This confirms that our optimization process converged to the correct (analytic) solution.\n",
        "\n",
        "In practice, the functions will not be simple, and for sure the derivation of an analytic solution will not be possible. This is why these optimization procedures are so helpful."
      ],
      "metadata": {
        "id": "3Loe3VzSgagP"
      }
    },
    {
      "cell_type": "markdown",
      "source": [
        "## 7. Exercise 2\n",
        "\n",
        "Try to modify ``x0_val`` and ``x1_val`` in the above code, as well as the ``learning_rate`` and ``t`` initialization value, and see how it affects convergence. Get an intuition on simple example, it is very useful!\n",
        "\n",
        "Try to see when\n",
        "1. convergence is too slow\n",
        "2. oscillation near minimum occurs\n",
        "3. divergence\n",
        "\n",
        "---\n",
        "\n",
        "1. learning_rate (lr) is too small e.g. 0.001 (or with too few iterations of the for loop e.g. 30 with 0.001)\n",
        "2. if lr is too large e.g. 0.1\n",
        "3. if lr is too large e.g. 0.15, then it cannot fit a curve and the \"minimum\" is around 0 istead of t = 3.0\n"
      ],
      "metadata": {
        "id": "EFq8fqLkgRdW"
      }
    }
  ]
}